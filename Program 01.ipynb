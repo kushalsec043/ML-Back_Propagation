{
 "cells": [
  {
   "cell_type": "code",
   "execution_count": 21,
   "metadata": {},
   "outputs": [],
   "source": [
    "import numpy as np \n",
    "import matplotlib.pyplot as plt \n",
    "import math"
   ]
  },
  {
   "cell_type": "code",
   "execution_count": 26,
   "metadata": {},
   "outputs": [
    {
     "name": "stdout",
     "output_type": "stream",
     "text": [
      "[[0.5        0.5        0.5        0.5       ]\n",
      " [0.37754067 0.59868766 0.549834   0.47502081]\n",
      " [0.549834   0.57444252 0.52497919 0.450166  ]\n",
      " [0.42555748 0.66818777 0.57444252 0.42555748]]\n"
     ]
    }
   ],
   "source": [
    "x=np.matrix('0 0 1 1 ; 0 1 0 1')\n",
    "X = x.transpose()\n",
    "t=np.matrix('0 1 1 0')\n",
    "cost = []\n",
    "count = 0\n",
    "it = []\n",
    "\n",
    "w1 = np.matrix('0.2 0.3 0.1 -0.2; -0.5 0.4 0.2 -0.1')\n",
    "w2 = np.matrix('0.1 -0.2 0.4 -0.5')\n",
    "\n",
    "b1 = np.matrix('0 0 0 0')\n",
    "b2 = np.matrix('0')\n",
    "\n",
    "for i in range(0,3000):\n",
    "    z1 = np.dot(X,w1) \n",
    "\n",
    "def sigmoid(z):\n",
    "    r = 1/(1 + np.exp(-z))\n",
    "    return r \n",
    "\n",
    "def differ(z):\n",
    "    G = sigmoid(z)\n",
    "    res = G*(1-G)\n",
    "\n",
    "a1 = sigmoid(z1)\n",
    "\n",
    "z2 = w2*a1 +b2\n",
    "\n",
    "a2 = sigmoid(z2)\n",
    "\n",
    "j = np.sum(t-a2)**2\n",
    "\n",
    "diffZ2 = a2-t\n",
    "\n",
    "alt = a1.transpose()\n",
    "diffW2 = diffZ2 * alt\n",
    "print(diffW2)\n",
    "diffB2 = diffZ2\n",
    "\n",
    "W2t = w2.transpose()\n",
    "diffA1 = W2t *diffZ2\n",
    "print(diffA1)\n",
    "\n",
    "diffZ1  = diffA1 * differ(a1)\n",
    "print(diffZ1)\n",
    "\n",
    "diffB1 = diffZ1\n",
    "a0t = x.transpose()\n",
    "diffW1 = diffZ1 * a0t\n",
    "print(diffW1)\n",
    "print(diffB1)\n",
    "\n",
    "w1 = w1 - np.multiply(0.1,diffW1)\n",
    "b1 = b1 - np.multiply(0.1,diffB1)\n",
    "w2 = w2 - np.multiply(0.1,diffW2)\n",
    "b2 = b2 - np.multiply(0.1,diffB2)\n",
    "\n",
    "cost.append(J)\n",
    "count = count+1\n",
    "it.append(count)\n",
    "\n",
    "print(cost)\n",
    "plt.plot(it,cost)\n",
    "plt.xlabel('iterations')\n",
    "plt.ylabel('cost')\n",
    "plt.show()"
   ]
  }
 ],
 "metadata": {
  "kernelspec": {
   "display_name": "Python 3",
   "language": "python",
   "name": "python3"
  },
  "language_info": {
   "codemirror_mode": {
    "name": "ipython",
    "version": 3
   },
   "file_extension": ".py",
   "mimetype": "text/x-python",
   "name": "python",
   "nbconvert_exporter": "python",
   "pygments_lexer": "ipython3",
   "version": "3.7.3"
  }
 },
 "nbformat": 4,
 "nbformat_minor": 2
}
